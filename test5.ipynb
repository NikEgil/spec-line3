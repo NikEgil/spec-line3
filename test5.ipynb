{
 "cells": [
  {
   "cell_type": "markdown",
   "metadata": {},
   "source": [
    "импорты"
   ]
  },
  {
   "cell_type": "code",
   "execution_count": 1,
   "metadata": {},
   "outputs": [],
   "source": [
    "import os\n",
    "import numpy as np\n",
    "from natsort import natsorted\n",
    "import matplotlib.pyplot as plt\n",
    "import re\n",
    "import pandas as pd\n",
    "from scipy import signal"
   ]
  },
  {
   "cell_type": "markdown",
   "metadata": {},
   "source": [
    "константы"
   ]
  },
  {
   "cell_type": "code",
   "execution_count": 3,
   "metadata": {},
   "outputs": [
    {
     "name": "stdout",
     "output_type": "stream",
     "text": [
      "793\n",
      "1530\n"
     ]
    }
   ],
   "source": [
    "# 153.8336486816406250 884.2712384333286764    измеряемый диапазон. 0-2136 диапазон данных\n",
    "start_nm = 450  # нм\n",
    "end_nm = 700  # нм\n",
    "\n",
    "x = pd.read_excel(\"x points nm.xlsx\")\n",
    "x=np.array(x['nm'].values[1:len(x)-1])\n",
    "\n",
    "xint=list(np.array(x,dtype=int))\n",
    "\n",
    "def nm_to_x(nm):\n",
    "    return xint.index(nm)+1\n",
    "\n",
    "def x_to_nm(index):\n",
    "    return x[index]\n",
    "# номера точек в массиве по координате х\n",
    "start_x = nm_to_x(start_nm)\n",
    "end_x = nm_to_x(end_nm)\n",
    "lamp_x = nm_to_x(565)\n",
    "tail_x = nm_to_x(650)\n",
    "head_x = nm_to_x(420)\n",
    "x=x[start_x:end_x]\n"
   ]
  },
  {
   "cell_type": "markdown",
   "metadata": {},
   "source": [
    "функции получения данных"
   ]
  },
  {
   "cell_type": "code",
   "execution_count": 4,
   "metadata": {},
   "outputs": [],
   "source": [
    "def get_rmr(spec):\n",
    "    y = []\n",
    "    spec = re.split(\",\", spec)\n",
    "    y = list(map(float, spec[start_x + 11 : end_x + 11]))\n",
    "    return y\n",
    "\n",
    "\n",
    "def get_txt(spec):\n",
    "    y = []\n",
    "    spec = re.split(\"\\n|\\t\", spec)\n",
    "    for j in range(start_x, end_x):\n",
    "        y.append(spec[j * 2 + 15].replace(\",\", \".\"))\n",
    "    return y\n",
    "\n",
    "\n",
    "def get_csv(spec):\n",
    "    y = []\n",
    "    spec = re.split(\"\\n|,\", spec)\n",
    "    for j in range(656 * 2 + 1, 1532 * 2 + 1, 2):\n",
    "        y.append(spec[j].replace(\",\", \".\"))\n",
    "\n",
    "    return y\n",
    "\n",
    "\n",
    "def get_data_rmr(path):\n",
    "    \"\"\"получение всей папки в виде списка с массивами np\"\"\"\n",
    "    _file_list = np.array(natsorted(os.listdir(path)))\n",
    "    _data = []\n",
    "    for file in range(len(_file_list)):\n",
    "        with open(path + _file_list[file], \"r\", encoding=\"utf8\") as spec:\n",
    "            spec = spec.read()\n",
    "        spec = re.split(\",\", spec)\n",
    "        _data.append(np.array(spec[start_x + 11 : end_x + 11], dtype=float))\n",
    "    #    _data.append(get_rmr(spec))\n",
    "    return _data\n",
    "\n",
    "\n",
    "def get_data_csv(path):\n",
    "    \"\"\"получение всей папки в виде списка с массивами np\"\"\"\n",
    "    _file_list = np.array(natsorted(os.listdir(path)))\n",
    "    _data = []\n",
    "    for file in range(len(_file_list)):\n",
    "        with open(path + _file_list[file], \"r\", encoding=\"utf8\") as spec:\n",
    "            spec = spec.read()\n",
    "            _data.append(np.array(get_csv(spec), dtype=float))\n",
    "    #    _data.append(get_rmr(spec))\n",
    "    return _data\n",
    "\n",
    "\n",
    "def get_base(base_folder):\n",
    "    b = []\n",
    "    for a in (\"/dark.csv\", \"/light.csv\", \"/bg.csv\"):\n",
    "        with open(base_folder + a, \"r\", encoding=\"utf8\") as spec:\n",
    "            spec = spec.read()\n",
    "            b.append(np.array(get_csv(spec), dtype=float))\n",
    "    return b\n",
    "\n",
    "\n",
    "def calc(mas, dark, light, bg):\n",
    "    a = mas - bg\n",
    "    b = light - bg\n",
    "    c = a / b\n",
    "    d = np.log10(c)\n",
    "    q = d * (-1)\n",
    "    return q"
   ]
  },
  {
   "cell_type": "markdown",
   "metadata": {},
   "source": [
    "получение данных из необработанных спектров"
   ]
  },
  {
   "cell_type": "code",
   "execution_count": null,
   "metadata": {},
   "outputs": [],
   "source": [
    "# получение всех спектров в виде списка в котором\n",
    "# каждая строка - папка, а каждый элемент - массив np с спектром\n",
    "data_row = []  # изанчальные графики\n",
    "data = []  # сглаженные графики\n",
    "\n",
    "main_folder = r\"C:\\Users\\Nik\\Desktop\\prog\\mcfluidic\\points\"\n",
    "main_folder = main_folder.replace(chr(92), \"/\")\n",
    "folders_list = np.array(natsorted(os.listdir(main_folder)))\n",
    "print(main_folder)\n",
    "\n",
    "for i in range(len(folders_list)):\n",
    "    data_row.append(get_data_rmr(main_folder + \"/\" + folders_list[i] + \"/\"))\n",
    "\n",
    "print(\"получено \" + str(len(data_row)) + \" папок\")"
   ]
  },
  {
   "cell_type": "code",
   "execution_count": null,
   "metadata": {},
   "outputs": [],
   "source": [
    "# пересчет спектров\n",
    "for i in range(1, len(data_row)):\n",
    "    _d = []\n",
    "\n",
    "    for j in range(len(data_row[i])):\n",
    "        _d.append(calc(data_row[i][j], base[0], base[1], base[2]))\n",
    "\n",
    "    data.append(_d)"
   ]
  },
  {
   "cell_type": "code",
   "execution_count": null,
   "metadata": {},
   "outputs": [],
   "source": [
    "# построение темного, светлого и фонового спектров\n",
    "x = np.arange(len(data[0][0]))\n",
    "\n",
    "\n",
    "plt.subplots(figsize=(8, 8))\n",
    "\n",
    "\n",
    "plt.plot(x, signal.savgol_filter(base[0], 60, 3), label=\"dark\")\n",
    "\n",
    "\n",
    "plt.plot(x, signal.savgol_filter(base[1], 60, 3), label=\"light\")\n",
    "\n",
    "\n",
    "plt.plot(x, signal.savgol_filter(base[2], 60, 3), label=\"bg\")\n",
    "\n",
    "\n",
    "plt.plot(x, signal.savgol_filter(data_row[5][5], 60, 3), label=\"spectr\")\n",
    "\n",
    "\n",
    "plt.legend()"
   ]
  },
  {
   "cell_type": "code",
   "execution_count": null,
   "metadata": {},
   "outputs": [],
   "source": [
    "x1 = np.arange(len(data[0][0]))\n",
    "for i in range(0, 60):\n",
    "    fig, axs = plt.subplots(1, 1, figsize=(8, 8))\n",
    "    for j in range(len(data[i])):\n",
    "        axs.plot(x, data[i][j], lw=0.2)\n",
    "    axs.set_title(str(folders_list[i]) + \" \" + str(len(data[i])))"
   ]
  },
  {
   "cell_type": "markdown",
   "metadata": {},
   "source": [
    "получение данных из rmr"
   ]
  },
  {
   "cell_type": "code",
   "execution_count": 19,
   "metadata": {},
   "outputs": [
    {
     "name": "stdout",
     "output_type": "stream",
     "text": [
      "C:/Users/Nik/Desktop/prog/mcfluidic/points\n",
      "['step 0' 'step 1' 'step 2' 'step 3' 'step 4' 'step 5' 'step 6' 'step 7'\n",
      " 'step 8' 'step 9' 'step 10' 'step 11' 'step 12' 'step 13' 'step 14'\n",
      " 'step 15' 'step 16' 'step 17' 'step 18' 'step 19' 'step 20' 'step 21'\n",
      " 'step 22' 'step 23' 'step 24' 'step 25' 'step 26' 'step 27' 'step 28'\n",
      " 'step 29' 'step 30' 'step 31' 'step 32' 'step 33' 'step 34' 'step 35'\n",
      " 'step 36' 'step 37' 'step 38' 'step 39' 'step 40' 'step 41' 'step 42'\n",
      " 'step 43' 'step 44']\n",
      "получено 45 папок\n"
     ]
    }
   ],
   "source": [
    "# получение всех спектров в виде списка в котором\n",
    "# каждая строка - папка, а каждый элемент - массив np с спектром\n",
    "data_row = []  # изанчальные графики\n",
    "data = []  # сглаженные графики\n",
    "smooth = True\n",
    "main_folder = r\"C:\\Users\\Nik\\Desktop\\prog\\mcfluidic\\points\"\n",
    "main_folder = main_folder.replace(chr(92), \"/\")\n",
    "folders_list = np.array(natsorted(os.listdir(main_folder)))\n",
    "print(main_folder)\n",
    "print(folders_list)\n",
    "\n",
    "\n",
    "for i in range(len(folders_list)):\n",
    "    data_row.append(get_data_rmr(main_folder + \"/\" + folders_list[i] + \"/\"))\n",
    "    # print(\"data from \" + str(folders_list[i]) + \" recived\")\n",
    "print(\"получено \" + str(len(data_row)) + \" папок\")\n",
    "\n",
    "if smooth == True:\n",
    "    for i in range(len(data_row)):\n",
    "        d = []\n",
    "        for j in range(len(data_row[i])):\n",
    "            d.append(signal.savgol_filter(data_row[i][j], 60, 3))\n",
    "        data.append(d)\n",
    "else:\n",
    "    data = data_row.copy()"
   ]
  },
  {
   "cell_type": "markdown",
   "metadata": {},
   "source": [
    "функции выборки максимума и разницы"
   ]
  },
  {
   "cell_type": "code",
   "execution_count": 20,
   "metadata": {},
   "outputs": [],
   "source": [
    "# функции для получения данных\n",
    "def dmax(mas: np.array):\n",
    "    return np.max(mas)\n",
    "\n",
    "\n",
    "def dmax_650(mas: np.array):\n",
    "    return np.max(mas) - mas[tail_x]\n",
    "\n",
    "\n",
    "def dmax_list(mas: list):\n",
    "    _max = []\n",
    "    for a in mas:\n",
    "        _max.append(np.max(a))\n",
    "    return _max\n",
    "\n",
    "\n",
    "def dmax_650_list(mas: list):\n",
    "    _max = []\n",
    "    for i in range(len(mas)):\n",
    "        _max.append(np.max(mas[i]) - mas[i][tail_x])\n",
    "    return _max"
   ]
  },
  {
   "cell_type": "code",
   "execution_count": null,
   "metadata": {},
   "outputs": [],
   "source": [
    "# попытка построить в 3д\n",
    "new_data = np.nan_to_num(np.array(data[5]), nan=0)\n",
    "x = np.arange(len(new_data))\n",
    "y = np.arange(len(new_data[0]))\n",
    "X, Y = np.meshgrid(y, x)\n",
    "Z = new_data\n",
    "fig = plt.figure(figsize=(24, 12))\n",
    "ax = fig.add_subplot(1, 2, 1, projection=\"3d\")\n",
    "surf = ax.plot_surface(X, Y, Z, cmap=\"viridis\", alpha=0.5, antialiased=False)\n",
    "\n",
    "ax = fig.add_subplot(1, 2, 2, projection=\"3d\")\n",
    "ax.plot_surface(Y, X, Z, cmap=\"viridis\", alpha=0.5, antialiased=False)"
   ]
  },
  {
   "cell_type": "markdown",
   "metadata": {},
   "source": [
    "построение из 1 папки n графиков"
   ]
  },
  {
   "cell_type": "code",
   "execution_count": null,
   "metadata": {},
   "outputs": [
    {
     "ename": "ValueError",
     "evalue": "x and y must have same first dimension, but have shapes (2134,) and (737,)",
     "output_type": "error",
     "traceback": [
      "\u001b[1;31m---------------------------------------------------------------------------\u001b[0m",
      "\u001b[1;31mValueError\u001b[0m                                Traceback (most recent call last)",
      "Cell \u001b[1;32mIn[21], line 7\u001b[0m\n\u001b[0;32m      5\u001b[0m plt\u001b[38;5;241m.\u001b[39mfigure(figsize\u001b[38;5;241m=\u001b[39m(\u001b[38;5;241m6\u001b[39m, \u001b[38;5;241m7\u001b[39m), dpi\u001b[38;5;241m=\u001b[39m\u001b[38;5;241m200\u001b[39m)\n\u001b[0;32m      6\u001b[0m \u001b[38;5;28;01mfor\u001b[39;00m i \u001b[38;5;129;01min\u001b[39;00m \u001b[38;5;28mrange\u001b[39m(\u001b[38;5;28mlen\u001b[39m(data[n])):\n\u001b[1;32m----> 7\u001b[0m     \u001b[43mplt\u001b[49m\u001b[38;5;241;43m.\u001b[39;49m\u001b[43mplot\u001b[49m\u001b[43m(\u001b[49m\u001b[43mx\u001b[49m\u001b[43m,\u001b[49m\u001b[43m \u001b[49m\u001b[43mdata\u001b[49m\u001b[43m[\u001b[49m\u001b[43mn\u001b[49m\u001b[43m]\u001b[49m\u001b[43m[\u001b[49m\u001b[43mi\u001b[49m\u001b[43m]\u001b[49m\u001b[43m,\u001b[49m\u001b[43m \u001b[49m\u001b[43mlw\u001b[49m\u001b[38;5;241;43m=\u001b[39;49m\u001b[38;5;241;43m0.1\u001b[39;49m\u001b[43m,\u001b[49m\u001b[43m \u001b[49m\u001b[43mcolor\u001b[49m\u001b[38;5;241;43m=\u001b[39;49m\u001b[38;5;124;43m\"\u001b[39;49m\u001b[38;5;124;43mblack\u001b[39;49m\u001b[38;5;124;43m\"\u001b[39;49m\u001b[43m)\u001b[49m\n\u001b[0;32m      8\u001b[0m plt\u001b[38;5;241m.\u001b[39mtitle(\u001b[38;5;124m\"\u001b[39m\u001b[38;5;124mИзмерение 15, \u001b[39m\u001b[38;5;124m\"\u001b[39m \u001b[38;5;241m+\u001b[39m \u001b[38;5;28mstr\u001b[39m(\u001b[38;5;28mlen\u001b[39m(data[n])) \u001b[38;5;241m+\u001b[39m \u001b[38;5;124m\"\u001b[39m\u001b[38;5;124m спектров\u001b[39m\u001b[38;5;124m\"\u001b[39m)\n\u001b[0;32m      9\u001b[0m plt\u001b[38;5;241m.\u001b[39mxlabel(\u001b[38;5;124m\"\u001b[39m\u001b[38;5;124mДлина волны, нм\u001b[39m\u001b[38;5;124m\"\u001b[39m)\n",
      "File \u001b[1;32mc:\\Users\\Nik\\AppData\\Local\\Programs\\Python\\Python311\\Lib\\site-packages\\matplotlib\\pyplot.py:3578\u001b[0m, in \u001b[0;36mplot\u001b[1;34m(scalex, scaley, data, *args, **kwargs)\u001b[0m\n\u001b[0;32m   3570\u001b[0m \u001b[38;5;129m@_copy_docstring_and_deprecators\u001b[39m(Axes\u001b[38;5;241m.\u001b[39mplot)\n\u001b[0;32m   3571\u001b[0m \u001b[38;5;28;01mdef\u001b[39;00m \u001b[38;5;21mplot\u001b[39m(\n\u001b[0;32m   3572\u001b[0m     \u001b[38;5;241m*\u001b[39margs: \u001b[38;5;28mfloat\u001b[39m \u001b[38;5;241m|\u001b[39m ArrayLike \u001b[38;5;241m|\u001b[39m \u001b[38;5;28mstr\u001b[39m,\n\u001b[1;32m   (...)\u001b[0m\n\u001b[0;32m   3576\u001b[0m     \u001b[38;5;241m*\u001b[39m\u001b[38;5;241m*\u001b[39mkwargs,\n\u001b[0;32m   3577\u001b[0m ) \u001b[38;5;241m-\u001b[39m\u001b[38;5;241m>\u001b[39m \u001b[38;5;28mlist\u001b[39m[Line2D]:\n\u001b[1;32m-> 3578\u001b[0m     \u001b[38;5;28;01mreturn\u001b[39;00m \u001b[43mgca\u001b[49m\u001b[43m(\u001b[49m\u001b[43m)\u001b[49m\u001b[38;5;241;43m.\u001b[39;49m\u001b[43mplot\u001b[49m\u001b[43m(\u001b[49m\n\u001b[0;32m   3579\u001b[0m \u001b[43m        \u001b[49m\u001b[38;5;241;43m*\u001b[39;49m\u001b[43margs\u001b[49m\u001b[43m,\u001b[49m\n\u001b[0;32m   3580\u001b[0m \u001b[43m        \u001b[49m\u001b[43mscalex\u001b[49m\u001b[38;5;241;43m=\u001b[39;49m\u001b[43mscalex\u001b[49m\u001b[43m,\u001b[49m\n\u001b[0;32m   3581\u001b[0m \u001b[43m        \u001b[49m\u001b[43mscaley\u001b[49m\u001b[38;5;241;43m=\u001b[39;49m\u001b[43mscaley\u001b[49m\u001b[43m,\u001b[49m\n\u001b[0;32m   3582\u001b[0m \u001b[43m        \u001b[49m\u001b[38;5;241;43m*\u001b[39;49m\u001b[38;5;241;43m*\u001b[39;49m\u001b[43m(\u001b[49m\u001b[43m{\u001b[49m\u001b[38;5;124;43m\"\u001b[39;49m\u001b[38;5;124;43mdata\u001b[39;49m\u001b[38;5;124;43m\"\u001b[39;49m\u001b[43m:\u001b[49m\u001b[43m \u001b[49m\u001b[43mdata\u001b[49m\u001b[43m}\u001b[49m\u001b[43m \u001b[49m\u001b[38;5;28;43;01mif\u001b[39;49;00m\u001b[43m \u001b[49m\u001b[43mdata\u001b[49m\u001b[43m \u001b[49m\u001b[38;5;129;43;01mis\u001b[39;49;00m\u001b[43m \u001b[49m\u001b[38;5;129;43;01mnot\u001b[39;49;00m\u001b[43m \u001b[49m\u001b[38;5;28;43;01mNone\u001b[39;49;00m\u001b[43m \u001b[49m\u001b[38;5;28;43;01melse\u001b[39;49;00m\u001b[43m \u001b[49m\u001b[43m{\u001b[49m\u001b[43m}\u001b[49m\u001b[43m)\u001b[49m\u001b[43m,\u001b[49m\n\u001b[0;32m   3583\u001b[0m \u001b[43m        \u001b[49m\u001b[38;5;241;43m*\u001b[39;49m\u001b[38;5;241;43m*\u001b[39;49m\u001b[43mkwargs\u001b[49m\u001b[43m,\u001b[49m\n\u001b[0;32m   3584\u001b[0m \u001b[43m    \u001b[49m\u001b[43m)\u001b[49m\n",
      "File \u001b[1;32mc:\\Users\\Nik\\AppData\\Local\\Programs\\Python\\Python311\\Lib\\site-packages\\matplotlib\\axes\\_axes.py:1721\u001b[0m, in \u001b[0;36mAxes.plot\u001b[1;34m(self, scalex, scaley, data, *args, **kwargs)\u001b[0m\n\u001b[0;32m   1478\u001b[0m \u001b[38;5;250m\u001b[39m\u001b[38;5;124;03m\"\"\"\u001b[39;00m\n\u001b[0;32m   1479\u001b[0m \u001b[38;5;124;03mPlot y versus x as lines and/or markers.\u001b[39;00m\n\u001b[0;32m   1480\u001b[0m \n\u001b[1;32m   (...)\u001b[0m\n\u001b[0;32m   1718\u001b[0m \u001b[38;5;124;03m(``'green'``) or hex strings (``'#008000'``).\u001b[39;00m\n\u001b[0;32m   1719\u001b[0m \u001b[38;5;124;03m\"\"\"\u001b[39;00m\n\u001b[0;32m   1720\u001b[0m kwargs \u001b[38;5;241m=\u001b[39m cbook\u001b[38;5;241m.\u001b[39mnormalize_kwargs(kwargs, mlines\u001b[38;5;241m.\u001b[39mLine2D)\n\u001b[1;32m-> 1721\u001b[0m lines \u001b[38;5;241m=\u001b[39m [\u001b[38;5;241m*\u001b[39m\u001b[38;5;28mself\u001b[39m\u001b[38;5;241m.\u001b[39m_get_lines(\u001b[38;5;28mself\u001b[39m, \u001b[38;5;241m*\u001b[39margs, data\u001b[38;5;241m=\u001b[39mdata, \u001b[38;5;241m*\u001b[39m\u001b[38;5;241m*\u001b[39mkwargs)]\n\u001b[0;32m   1722\u001b[0m \u001b[38;5;28;01mfor\u001b[39;00m line \u001b[38;5;129;01min\u001b[39;00m lines:\n\u001b[0;32m   1723\u001b[0m     \u001b[38;5;28mself\u001b[39m\u001b[38;5;241m.\u001b[39madd_line(line)\n",
      "File \u001b[1;32mc:\\Users\\Nik\\AppData\\Local\\Programs\\Python\\Python311\\Lib\\site-packages\\matplotlib\\axes\\_base.py:303\u001b[0m, in \u001b[0;36m_process_plot_var_args.__call__\u001b[1;34m(self, axes, data, *args, **kwargs)\u001b[0m\n\u001b[0;32m    301\u001b[0m     this \u001b[38;5;241m+\u001b[39m\u001b[38;5;241m=\u001b[39m args[\u001b[38;5;241m0\u001b[39m],\n\u001b[0;32m    302\u001b[0m     args \u001b[38;5;241m=\u001b[39m args[\u001b[38;5;241m1\u001b[39m:]\n\u001b[1;32m--> 303\u001b[0m \u001b[38;5;28;01myield from\u001b[39;00m \u001b[38;5;28;43mself\u001b[39;49m\u001b[38;5;241;43m.\u001b[39;49m\u001b[43m_plot_args\u001b[49m\u001b[43m(\u001b[49m\n\u001b[0;32m    304\u001b[0m \u001b[43m    \u001b[49m\u001b[43maxes\u001b[49m\u001b[43m,\u001b[49m\u001b[43m \u001b[49m\u001b[43mthis\u001b[49m\u001b[43m,\u001b[49m\u001b[43m \u001b[49m\u001b[43mkwargs\u001b[49m\u001b[43m,\u001b[49m\u001b[43m \u001b[49m\u001b[43mambiguous_fmt_datakey\u001b[49m\u001b[38;5;241;43m=\u001b[39;49m\u001b[43mambiguous_fmt_datakey\u001b[49m\u001b[43m)\u001b[49m\n",
      "File \u001b[1;32mc:\\Users\\Nik\\AppData\\Local\\Programs\\Python\\Python311\\Lib\\site-packages\\matplotlib\\axes\\_base.py:499\u001b[0m, in \u001b[0;36m_process_plot_var_args._plot_args\u001b[1;34m(self, axes, tup, kwargs, return_kwargs, ambiguous_fmt_datakey)\u001b[0m\n\u001b[0;32m    496\u001b[0m     axes\u001b[38;5;241m.\u001b[39myaxis\u001b[38;5;241m.\u001b[39mupdate_units(y)\n\u001b[0;32m    498\u001b[0m \u001b[38;5;28;01mif\u001b[39;00m x\u001b[38;5;241m.\u001b[39mshape[\u001b[38;5;241m0\u001b[39m] \u001b[38;5;241m!=\u001b[39m y\u001b[38;5;241m.\u001b[39mshape[\u001b[38;5;241m0\u001b[39m]:\n\u001b[1;32m--> 499\u001b[0m     \u001b[38;5;28;01mraise\u001b[39;00m \u001b[38;5;167;01mValueError\u001b[39;00m(\u001b[38;5;124mf\u001b[39m\u001b[38;5;124m\"\u001b[39m\u001b[38;5;124mx and y must have same first dimension, but \u001b[39m\u001b[38;5;124m\"\u001b[39m\n\u001b[0;32m    500\u001b[0m                      \u001b[38;5;124mf\u001b[39m\u001b[38;5;124m\"\u001b[39m\u001b[38;5;124mhave shapes \u001b[39m\u001b[38;5;132;01m{\u001b[39;00mx\u001b[38;5;241m.\u001b[39mshape\u001b[38;5;132;01m}\u001b[39;00m\u001b[38;5;124m and \u001b[39m\u001b[38;5;132;01m{\u001b[39;00my\u001b[38;5;241m.\u001b[39mshape\u001b[38;5;132;01m}\u001b[39;00m\u001b[38;5;124m\"\u001b[39m)\n\u001b[0;32m    501\u001b[0m \u001b[38;5;28;01mif\u001b[39;00m x\u001b[38;5;241m.\u001b[39mndim \u001b[38;5;241m>\u001b[39m \u001b[38;5;241m2\u001b[39m \u001b[38;5;129;01mor\u001b[39;00m y\u001b[38;5;241m.\u001b[39mndim \u001b[38;5;241m>\u001b[39m \u001b[38;5;241m2\u001b[39m:\n\u001b[0;32m    502\u001b[0m     \u001b[38;5;28;01mraise\u001b[39;00m \u001b[38;5;167;01mValueError\u001b[39;00m(\u001b[38;5;124mf\u001b[39m\u001b[38;5;124m\"\u001b[39m\u001b[38;5;124mx and y can be no greater than 2D, but have \u001b[39m\u001b[38;5;124m\"\u001b[39m\n\u001b[0;32m    503\u001b[0m                      \u001b[38;5;124mf\u001b[39m\u001b[38;5;124m\"\u001b[39m\u001b[38;5;124mshapes \u001b[39m\u001b[38;5;132;01m{\u001b[39;00mx\u001b[38;5;241m.\u001b[39mshape\u001b[38;5;132;01m}\u001b[39;00m\u001b[38;5;124m and \u001b[39m\u001b[38;5;132;01m{\u001b[39;00my\u001b[38;5;241m.\u001b[39mshape\u001b[38;5;132;01m}\u001b[39;00m\u001b[38;5;124m\"\u001b[39m)\n",
      "\u001b[1;31mValueError\u001b[0m: x and y must have same first dimension, but have shapes (2134,) and (737,)"
     ]
    },
    {
     "data": {
      "image/png": "[encoded data removed]",
      "text/plain": [
       "<Figure size 1200x1400 with 1 Axes>"
      ]
     },
     "metadata": {},
     "output_type": "display_data"
    }
   ],
   "source": [
    "# просто посмотреть график в какойто папке\n",
    "n = 1\n",
    "# for i in range(len(data[n])):\n",
    "#   data[n][i]=data[n][i][700:1600]\n",
    "plt.figure(figsize=(6, 7), dpi=200)\n",
    "for i in range(len(data[n])):\n",
    "    plt.plot(x, data[n][i], lw=0.1, color=\"black\")\n",
    "plt.title(\"Измерение 15, \" + str(len(data[n])) + \" спектров\")\n",
    "plt.xlabel(\"Длина волны, нм\")\n",
    "plt.ylabel(\"Интенсивность, отн.ед.\")\n",
    "print(len(data[n]))"
   ]
  },
  {
   "cell_type": "markdown",
   "metadata": {},
   "source": [
    "таймлайн"
   ]
  },
  {
   "cell_type": "code",
   "execution_count": null,
   "metadata": {},
   "outputs": [],
   "source": [
    "def zero_index(mas):\n",
    "    _zero = []\n",
    "    for i in range(len(mas)):\n",
    "        if np.max(mas[i]) < 0.1:\n",
    "            _zero.append(i)\n",
    "    return _zero"
   ]
  },
  {
   "cell_type": "code",
   "execution_count": null,
   "metadata": {},
   "outputs": [],
   "source": [
    "one_max = dmax_list(data[0])\n",
    "\n",
    "zz = zero_index(data[0])\n",
    "print(len(data[0]))\n",
    "z_d = []\n",
    "\n",
    "for i in range(len(zz) - 1):\n",
    "    z_d.append(zz[i + 1] - zz[i])\n",
    "\n",
    "plt.plot(np.arange(len(z_d)), z_d)"
   ]
  },
  {
   "cell_type": "code",
   "execution_count": null,
   "metadata": {},
   "outputs": [],
   "source": [
    "print_grafs = False\n",
    "for _folder in range(1):\n",
    "    _a = 50\n",
    "    if len(data[_folder]) < 50:\n",
    "        _a = len(data[_folder])\n",
    "    _mas = data[_folder][1 : _a + 1]  # 100 cпектров из папки\n",
    "    # for i in range(len(_mas)):\n",
    "    #    _mas[i] = signal.savgol_filter(_mas[i], 60, 3)\n",
    "\n",
    "    # plt.subplots(figsize=[10, 10]);plt.clf()\n",
    "    fig, axs = plt.subplots(3, 1, figsize=(10, 7), dpi=200)\n",
    "\n",
    "    # fig.tit title(\"синтез \" + str(folders_list[_folder]))\n",
    "    fig.suptitle(\"Измерение \" + str(folders_list[_folder]))\n",
    "\n",
    "    _sp = 0\n",
    "    for i in range(len(_mas)):\n",
    "        axs[0].plot(np.arange(_sp, _sp + len(_mas[i])), _mas[i], lw=1)\n",
    "        _sp += len(_mas[i])\n",
    "    # axs[0].set_ylim(-0.05, 0.5)\n",
    "    axs[0].set_ylabel(\"Интенсивность, отн.ед.\")\n",
    "    # axs[0].set_xticklabels(np.arange(0,_sp),np.arange(0,30))\n",
    "    q = np.arange(0 + 877 / 2, 877 * _a + 877 / 2, 877 * 2)\n",
    "    axs[0].set_xticks(q, labels=np.arange(1, _a + 1, 2))\n",
    "    # axs[0].axes.tick_params(axis='x',which='minor',direction='out',bottom=True,length=80)\n",
    "\n",
    "    axs[1].set_ylabel(\"I(max), отн.ед.\")\n",
    "    minus = dmax_list(_mas)\n",
    "    for i in range(len(_mas)):\n",
    "        axs[1].scatter(i, minus[i])\n",
    "    axs[1].plot(np.arange(len(minus)), minus, lw=0.2, color=\"black\")\n",
    "    axs[1].set_xticks(np.arange(0, 50, 2), labels=np.arange(1, _a + 1, 2))\n",
    "\n",
    "    axs[2].set_ylabel(\"I(max)-I(650), отн.ед.\")\n",
    "    minus = dmax_650_list(_mas)\n",
    "    for i in range(len(_mas)):\n",
    "        axs[2].scatter(i, minus[i])\n",
    "    axs[2].plot(np.arange(len(minus)), minus, lw=0.2, color=\"black\")\n",
    "    axs[2].set_xticks(np.arange(0, 50, 2), labels=np.arange(1, _a + 1, 2))\n",
    "    if print_grafs == True:\n",
    "        plt.savefig(\"timelane/\" + str(folders_list[_folder]) + \".png\")\n",
    "\n",
    "# fig.clf();fig.clear()"
   ]
  },
  {
   "cell_type": "markdown",
   "metadata": {},
   "source": [
    "первый способ выборки"
   ]
  },
  {
   "cell_type": "code",
   "execution_count": null,
   "metadata": {},
   "outputs": [],
   "source": [
    "# пострение гистограм\n",
    "def data_for_hist(mas, ind):\n",
    "    ar = np.zeros(len(mas))\n",
    "    if ind == \"max\":\n",
    "        for i in range(len(mas)):\n",
    "            ar[i] = np.max(mas[i])\n",
    "    else:\n",
    "        for i in range(len(mas)):\n",
    "            ar[i] = mas[i][ind]\n",
    "    return ar\n",
    "\n",
    "\n",
    "def histograma(mas):\n",
    "    hist, bins = np.histogram(mas, bins=50)\n",
    "    hist = hist[5:]\n",
    "    bins = bins[5:-1]\n",
    "    return bins, hist\n",
    "\n",
    "\n",
    "def kde(x):\n",
    "    dx = x.max() - x.min()\n",
    "    if dx == 0:\n",
    "        return [x[0] - 1, x[0] - 0.01, x[0], x[0] + 0.01, x[0] + 1], [0, 0, 1, 0, 0]\n",
    "    kde_sk = KernelDensity(bandwidth=dx / 100, kernel=\"gaussian\")\n",
    "    kde_sk.fit(x.reshape([-1, 1]))\n",
    "    eval_points = np.linspace(x.min() - dx * 0.1, x.max() + dx * 0.1, 50)\n",
    "    y_sk = np.exp(kde_sk.score_samples(eval_points.reshape(-1, 1)))\n",
    "    return eval_points, y_sk\n",
    "\n",
    "\n",
    "for n in range(len(folders_list)):\n",
    "    masiv = data[n].copy()\n",
    "    ar_max = data_for_hist(masiv, \"max\")\n",
    "    ar_mean = data_for_hist(masiv, tail_x)\n",
    "    ar_max_mean = np.divide(ar_max, ar_mean)\n",
    "\n",
    "    fig, axs = plt.subplots(2, 1, figsize=(10, 10))\n",
    "\n",
    "    axs[0].plot(*kde(ar_max), color=\"blue\", label=\"KDE\")\n",
    "    axs[0].plot(*histograma(ar_max), color=\"red\", label=\"гистограмма\")\n",
    "\n",
    "    bins, hist = histograma(ar_max)\n",
    "    axs[0].set_title(str(folders_list[n]) + \" распределение в точке максимума\")\n",
    "\n",
    "    axs[0].legend()\n",
    "\n",
    "    gap = 0.01\n",
    "    maximum = bins[np.argmax(hist)]\n",
    "    ar = []\n",
    "    for i in range(len(ar_max)):\n",
    "        if maximum - gap <= ar_max[i] <= maximum + gap:\n",
    "            ar.append(i)\n",
    "    print(len(ar))\n",
    "    print(ar)\n",
    "\n",
    "    for i in range(len(masiv)):\n",
    "        axs[1].plot(x, masiv[i], color=\"black\", lw=0.01)\n",
    "\n",
    "    for i in range(len(ar)):\n",
    "        axs[1].plot(x, masiv[ar[i]], color=\"blue\", lw=0.05)\n",
    "\n",
    "    mas = []\n",
    "    mins = []\n",
    "    for i in range(len(ar)):\n",
    "        mins.append(masiv[ar[i]][tail_x])\n",
    "    mins = np.min(mins)\n",
    "    for i in range(len(ar)):\n",
    "        if masiv[ar[i]][tail_x] <= mins + 2 * gap:\n",
    "            mas.append(masiv[ar[i]])\n",
    "            axs[1].plot(x, masiv[ar[i]], color=\"red\", lw=0.05)\n",
    "    print(len(mas))\n",
    "    axs[1].set_title(\"выбранные графики \" + str(len(mas)) + \"/\" + str(len(masiv)))\n",
    "    # plt.savefig(\"chosing/\" + str(folders_list[n]) + \".png\")"
   ]
  },
  {
   "cell_type": "markdown",
   "metadata": {},
   "source": [
    "второй способ выборки"
   ]
  },
  {
   "cell_type": "code",
   "execution_count": null,
   "metadata": {},
   "outputs": [],
   "source": [
    "def data_for_hist(mas, ind):\n",
    "    ar = np.zeros(len(mas))\n",
    "    if ind == \"max\":\n",
    "        for i in range(len(mas)):\n",
    "            ar[i] = np.max(mas[i])\n",
    "    else:\n",
    "        for i in range(len(mas)):\n",
    "            ar[i] = mas[i][ind]\n",
    "    return ar\n",
    "\n",
    "\n",
    "data_new = []\n",
    "gap = 0.02\n",
    "for n in range(len(folders_list)):\n",
    "    masiv = data[n]\n",
    "    _d = []\n",
    "    ar_max = data_for_hist(masiv, \"max\")\n",
    "    ar_mean = data_for_hist(masiv, tail_x)\n",
    "    ar_max_mean = ar_max - ar_mean\n",
    "\n",
    "    maximum = np.max(ar_max_mean)\n",
    "    ar = []  # индексы спектров с наибольшей разницей между мах и 650\n",
    "    for i in range(len(ar_max_mean)):\n",
    "        if ar_max_mean[i] > maximum - gap:\n",
    "            ar.append(i)\n",
    "    # if len(ar) == 0:\n",
    "    # continue\n",
    "    ar2 = []  # значения интенсивнотей в точке max\n",
    "    for i in range(len(ar)):\n",
    "        ar2.append(np.max(masiv[ar[i]]))\n",
    "    minimum = np.min(ar2)\n",
    "\n",
    "    ar3 = []  # индексы более подходящих спектров\n",
    "    for i in range(len(ar)):\n",
    "        if np.max(masiv[ar[i]]) < minimum + gap:\n",
    "            ar3.append(ar[i])\n",
    "    for i in range(len(ar3)):\n",
    "        _d.append(masiv[ar3[i]])\n",
    "    data_new.append(_d)"
   ]
  },
  {
   "cell_type": "code",
   "execution_count": null,
   "metadata": {},
   "outputs": [],
   "source": [
    "spec = []  # сглаженный\n",
    "spec_row = []  # не сглаженный\n",
    "\n",
    "\n",
    "for i in range(len(data_new)):\n",
    "    _a = len(data_new[i])\n",
    "\n",
    "    _b = np.sum(data_new[i], axis=0)\n",
    "\n",
    "    _b /= _a\n",
    "\n",
    "    spec.append(signal.savgol_filter(_b, 100, 3))\n",
    "    spec_row.append(_b)"
   ]
  },
  {
   "cell_type": "code",
   "execution_count": null,
   "metadata": {},
   "outputs": [],
   "source": [
    "for i in range(len(spec)):\n",
    "    print(\n",
    "        np.max(spec[i]),\n",
    "        np.max(signal.savgol_filter(spec[i], 60, 3)),\n",
    "        np.max(signal.savgol_filter(spec[i], 100, 3)),\n",
    "    )\n",
    "n = 2\n",
    "plt.plot(x, spec[n], lw=0.5, color=\"black\")\n",
    "plt.plot(x, signal.savgol_filter(spec[n], 60, 3), lw=0.5, color=\"red\")\n",
    "plt.plot(x, signal.savgol_filter(spec[n], 100, 3), lw=0.5, color=\"blue\")\n",
    "plt.xlim(480, 510)\n",
    "plt.ylim(0.17, 0.21)"
   ]
  },
  {
   "cell_type": "code",
   "execution_count": null,
   "metadata": {},
   "outputs": [],
   "source": [
    "# построение красивых итоговых графиков\n",
    "for i in range(0,45):\n",
    "    plt.plot(\n",
    "        x,\n",
    "        spec[i],\n",
    "        lw=0.8,\n",
    "        label=str(folders_list[i]) + \" \"+str(round(len(data_new[i]) * 100 / len(data[i]), 2))+ \"%\",\n",
    "    )\n",
    "\n",
    "plt.legend(loc=\"upper left\", bbox_to_anchor=(1, 1))"
   ]
  },
  {
   "cell_type": "code",
   "execution_count": null,
   "metadata": {},
   "outputs": [],
   "source": [
    "plt.figure(figsize=(10, 7), dpi=200)\n",
    "for i in range(len(data[n])):\n",
    "    plt.plot(x, data[n][i], lw=0.1, color=\"black\")\n",
    "plt.title(\"Измерение 15, \" + str(len(data[n])) + \" спектров\")\n",
    "plt.xlabel(\"Длина волны, нм\")\n",
    "plt.ylabel(\"Интенсивность, отн.ед.\")\n",
    "print(len(data_new[n]))\n",
    "for i in range(len(ar)):\n",
    "    plt.plot(x, data_new[n][ar[i]], lw=0.4, color=\"blue\")\n",
    "for i in range(len(ar3)):\n",
    "    plt.plot(x, data_new[n][ar3[i]], lw=0.4, color=\"red\")"
   ]
  },
  {
   "cell_type": "code",
   "execution_count": null,
   "metadata": {},
   "outputs": [],
   "source": [
    "aa=(nm_to_x(450))\n",
    "print(aa)"
   ]
  },
  {
   "cell_type": "markdown",
   "metadata": {},
   "source": [
    "дескрипторы"
   ]
  },
  {
   "cell_type": "code",
   "execution_count": null,
   "metadata": {},
   "outputs": [],
   "source": [
    "def coef_parabola(sp):\n",
    "    \"\"\"коэффициенты параболы\"\"\"\n",
    "    _m = np.max(sp)\n",
    "    _gap = 0.005\n",
    "    _i = np.argmax(sp)\n",
    "    if _i==0:return [0]\n",
    "    _p, _q = 0, 0\n",
    "    for i in range(_i, _i + 300):\n",
    "        if sp[i] < _m - _gap:\n",
    "            _q = i\n",
    "            break\n",
    "    for i in range(_i, _i - 300, -1):\n",
    "        if sp[i] < _m - _gap:\n",
    "            _p = i\n",
    "\n",
    "            break\n",
    "\n",
    "    _coefs = np.polyfit(\n",
    "        x[_p:_q], sp[_p:_q], 2\n",
    "    )  # Вторым аргументом передается степень полинома\n",
    "    return _coefs\n",
    "\n",
    "\n",
    "def w_h_75(sp):\n",
    "    \"\"\"ширина, высота\"\"\"\n",
    "    _h = np.max(sp) - (np.max(sp) - np.min(sp[0 : round(len(sp) / 3)])) * 0.25\n",
    "    _start, _end = 0, 0\n",
    "    _ind_max = np.argmax(sp)\n",
    "    for i in range(_ind_max, _ind_max + 300):\n",
    "        if sp[i] <= _h:\n",
    "            _end = i\n",
    "            break\n",
    "    for i in range(_ind_max, _ind_max - 300, -1):\n",
    "        if sp[i] <= _h:\n",
    "            _start = i\n",
    "            break\n",
    "    _w = x_to_nm(_end) - x_to_nm(_start)\n",
    "    return (_w, _h)\n",
    "\n",
    "\n",
    "def angle(sp, point):\n",
    "    _x1 = x_to_nm(np.argmax(sp))\n",
    "    _y1 = np.max(sp)\n",
    "    _x2 = point\n",
    "    _y2 = sp[nm_to_x(point)]\n",
    "    return (_y2 - _y1) / (_x2 - _x1)"
   ]
  },
  {
   "cell_type": "code",
   "execution_count": null,
   "metadata": {},
   "outputs": [],
   "source": [
    "print(coef_parabola(spec[1]))"
   ]
  },
  {
   "cell_type": "code",
   "execution_count": null,
   "metadata": {},
   "outputs": [],
   "source": [
    "# выбор максимума\n",
    "S_name = pd.Series(folders_list)\n",
    "S_Imax = pd.Series(name=\"I(max)\")\n",
    "S_NMmax = pd.Series(name=\"I nm\")\n",
    "S_I650 = pd.Series(name=\"I(650)\")\n",
    "S_Imax_m_I650 = pd.Series(name=\"I(max)-I(650)\")\n",
    "S_I400 = pd.Series(name=\"I(400)\")\n",
    "S_Imax_m_I400 = pd.Series(name=\"I(max)-I(400)\")\n",
    "S_coef_a = pd.Series(name=\"coef A\")\n",
    "S_height = pd.Series(name=\"height\")\n",
    "S_weight = pd.Series(name=\"weight\")\n",
    "S_angle = pd.Series(name=\"ang\")\n",
    "_sp = nm_to_x(400)\n",
    "for i in range(len(spec)):\n",
    "    S_Imax.loc[i] = np.max(spec[i])\n",
    "    S_NMmax.loc[i] = x_to_nm(np.argmax(spec[i]))\n",
    "    S_I650.loc[i] = spec[i][tail_x]\n",
    "    S_Imax_m_I650.loc[i] = S_Imax.loc[i] - S_I650.loc[i]\n",
    "    S_I400.loc[i] = spec[i][_sp]\n",
    "    S_Imax_m_I400.loc[i] = S_Imax.loc[i] / S_I400.loc[i]\n",
    "    S_coef_a.loc[i] = coef_parabola(spec[i])[0]\n",
    "    _w_h = w_h_75(spec[i])\n",
    "    S_height.loc[i] = _w_h[0]\n",
    "    S_weight.loc[i] = _w_h[1]\n",
    "    S_angle.loc[i] = angle(spec[i], 570)\n",
    "plt.plot(np.arange(len(S_weight)), S_weight)"
   ]
  },
  {
   "cell_type": "code",
   "execution_count": null,
   "metadata": {},
   "outputs": [],
   "source": [
    "# построение параболы и кучи линий\n",
    "n = 0\n",
    "\n",
    "\n",
    "ind = x_to_nm(np.argmax(spec[n]))\n",
    "max = np.max(spec[n])\n",
    "\n",
    "\n",
    "mean = spec[n][nm_to_x(650)]\n",
    "\n",
    "\n",
    "plt.plot((ind, ind), (0, max), color=\"blue\")\n",
    "q = 0.75\n",
    "\n",
    "\n",
    "def h(_max, _650, coe):\n",
    "    return _max - coe * (_max - _650)\n",
    "\n",
    "\n",
    "def o(sp):\n",
    "    return np.max(sp) - (np.max(sp) - np.min(sp[0 : round(len(sp) / 3)])) * 0.25\n",
    "\n",
    "\n",
    "parabola = np.poly1d(coef_parabola(spec[n]))\n",
    "\n",
    "\n",
    "plt.title(\"измерение \" + str(folders_list[n]))\n",
    "plt.plot((400, 600), (max * q, max * q), label=\"0.75*I(max\")\n",
    "plt.plot((400, 600), (max * 0.5, max * 0.5), label=\"0.5*I(max\")\n",
    "\n",
    "\n",
    "plt.plot(\n",
    "    (400, 600),\n",
    "    (h(max, mean, 0.25), h(max, mean, 0.25)),\n",
    "    label=\"0.75*I(max) вычет I(650)\",\n",
    ")\n",
    "plt.plot((400, 600), (o(spec[n]), o(spec[n])), label=\"верхняя\")\n",
    "\n",
    "\n",
    "plt.plot(\n",
    "    (400, 600), (h(max, mean, 0.5), h(max, mean, 0.5)), label=\"0.5*I(max) вычет I(650)\"\n",
    ")\n",
    "\n",
    "\n",
    "plt.plot(x[100:500], parabola(x[100:500]), label=\"Аппроксимация\")\n",
    "\n",
    "\n",
    "plt.plot(x, spec[n], color=\"black\")\n",
    "\n",
    "\n",
    "plt.ylim(mean * 0.9, max * 1.1)\n",
    "\n",
    "\n",
    "plt.legend()"
   ]
  },
  {
   "cell_type": "markdown",
   "metadata": {},
   "source": [
    "построение карт"
   ]
  },
  {
   "cell_type": "code",
   "execution_count": null,
   "metadata": {},
   "outputs": [],
   "source": [
    "import sys\n",
    "\n",
    "sys.path.append(r\"C:\\Users\\Nik\\Desktop\\pfy\")\n",
    "from pyfitit import *\n",
    "import pandas as pd"
   ]
  },
  {
   "cell_type": "code",
   "execution_count": null,
   "metadata": {},
   "outputs": [],
   "source": [
    "data_speed = pd.read_excel(\"speed.xlsx\")\n",
    "data_measure = pd.concat(\n",
    "    [\n",
    "        S_Imax,\n",
    "        S_NMmax,\n",
    "        S_I650,\n",
    "        S_Imax_m_I650,\n",
    "        S_I400,\n",
    "        S_Imax_m_I400,\n",
    "        S_coef_a,\n",
    "        S_height,\n",
    "        S_weight,\n",
    "        S_angle,\n",
    "    ],\n",
    "    axis=1,\n",
    ")\n",
    "data_table = pd.concat([data_speed, data_measure], axis=1)\n",
    "print(data_table.columns[0:])"
   ]
  },
  {
   "cell_type": "code",
   "execution_count": null,
   "metadata": {},
   "outputs": [],
   "source": [
    "plotDescriptors2d(\n",
    "    data_table,\n",
    "    descriptorNames=[\"v АК\", \"v ЦН\"],\n",
    "    # labelNames=data_table.columns[5:],\n",
    "    labelNames=[\n",
    "        \"I(max)\",\n",
    "        \"I nm\",\n",
    "        \"I(650)\",\n",
    "        \"I(max)-I(650)\",\n",
    "        \"I(400)\",\n",
    "        \"I(max)-I(400)\",\n",
    "        \"coef A\",\n",
    "        \"height\",\n",
    "        \"weight\",\n",
    "        \"ang\",\n",
    "    ],\n",
    "    textColumn=data_table.columns[0],\n",
    "    # cv_count=30,\n",
    "    # unknown=\"unknown.params\",\n",
    "    folder_prefix=\"results/descriptors1\",\n",
    ")"
   ]
  }
 ],
 "metadata": {
  "kernelspec": {
   "display_name": "Python 3",
   "language": "python",
   "name": "python3"
  },
  "language_info": {
   "codemirror_mode": {
    "name": "ipython",
    "version": 3
   },
   "file_extension": ".py",
   "mimetype": "text/x-python",
   "name": "python",
   "nbconvert_exporter": "python",
   "pygments_lexer": "ipython3",
   "version": "3.11.5"
  }
 },
 "nbformat": 4,
 "nbformat_minor": 2
}
