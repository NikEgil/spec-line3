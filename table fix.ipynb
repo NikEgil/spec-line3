{
 "cells": [
  {
   "cell_type": "code",
   "execution_count": 1,
   "metadata": {},
   "outputs": [
    {
     "name": "stderr",
     "output_type": "stream",
     "text": [
      "C:\\Users\\user\\AppData\\Local\\Temp\\ipykernel_6720\\1427923194.py:2: DeprecationWarning: \n",
      "Pyarrow will become a required dependency of pandas in the next major release of pandas (pandas 3.0),\n",
      "(to allow more performant data types, such as the Arrow string type, and better interoperability with other libraries)\n",
      "but was not found to be installed on your system.\n",
      "If this would cause problems for you,\n",
      "please provide us feedback at https://github.com/pandas-dev/pandas/issues/54466\n",
      "        \n",
      "  import pandas as pd\n"
     ]
    }
   ],
   "source": [
    "import os\n",
    "import pandas as pd\n",
    "import numpy as np\n",
    "from numpy.random import default_rng"
   ]
  },
  {
   "cell_type": "code",
   "execution_count": 2,
   "metadata": {},
   "outputs": [],
   "source": [
    "#скорость 1\n",
    "v1_s=0\n",
    "v1_e=2.3\n",
    "v1_d=0.1\n",
    "#скорость 2\n",
    "v2=0.7\n",
    "#скорость 3\n",
    "v3_s=0\n",
    "v3_e=2.3\n",
    "v3_d=0.1\n",
    "#cost скорость потока реагентов\n",
    "vs=3\n",
    "#const скорость масла\n",
    "v4m=3"
   ]
  },
  {
   "cell_type": "code",
   "execution_count": 6,
   "metadata": {},
   "outputs": [],
   "source": [
    "time_point=10\n",
    "time_proliv=10\n",
    "zero_str=(0,0,0,0,None,None,1)\n",
    "proliv=(0,0,0,vs+v4m,None,None,time_proliv)\n",
    "start_str=(0,0,0,vs+v4m,None,None,30)\n",
    "end_str=(0,0,0,vs+v4m,None,None,180)\n"
   ]
  },
  {
   "cell_type": "code",
   "execution_count": 7,
   "metadata": {},
   "outputs": [],
   "source": [
    "table=[]\n",
    "for v1 in np.arange(v1_s,v1_e+0.1,v1_d):\n",
    "    for v3 in np.arange(v3_s,v3_e+0.1,v3_d):\n",
    "        if v1+v2+v3==vs:\n",
    "            table.append((v1,v2,v3,v4m,None,None,time_point,1,v1+v2+v3+v4m))\n",
    "        else:continue"
   ]
  },
  {
   "cell_type": "code",
   "execution_count": 8,
   "metadata": {},
   "outputs": [
    {
     "name": "stdout",
     "output_type": "stream",
     "text": [
      "[16 18 11  8 13 19  0 15 14  3  4  7  6 17 20 12  5 10  9 21  1  2]\n",
      "90\n",
      "180\n",
      "270\n",
      "360\n",
      "450\n",
      "540\n",
      "630\n",
      "720\n",
      "810\n",
      "900\n",
      "990\n",
      "1080\n",
      "1170\n",
      "1260\n",
      "1350\n",
      "1440\n",
      "1530\n",
      "1620\n",
      "1710\n",
      "1800\n",
      "1890\n",
      "1980\n",
      "[]\n"
     ]
    }
   ],
   "source": [
    "schedule=[]\n",
    "#schedule.append(start_str)\n",
    "schedule.append(zero_str)\n",
    "\n",
    "vol=0\n",
    "\n",
    "rng = default_rng()\n",
    "numbers = rng.choice(len(table), size=len(table), replace=False)\n",
    "print(numbers)\n",
    "zp=[]\n",
    "a=0\n",
    "for i in numbers:\n",
    "    schedule.append(table[i][0:7])\n",
    "    schedule.append(zero_str)\n",
    "    schedule.append(proliv)\n",
    "    schedule.append(zero_str)\n",
    "    vol+=table[i][3]*table[i][6]+proliv[3]*proliv[6]\n",
    "    print(vol)\n",
    "    a+=1\n",
    "    if vol>7000:\n",
    "        print(\"zapravka   \" + str(a))\n",
    "        schedule.append(\"заправка\")\n",
    "        schedule.append(zero_str)\n",
    "        vol=0\n",
    "schedule.append(end_str)\n",
    "\n",
    "data=pd.DataFrame(schedule)\n",
    "data=data.assign(q=np.ones(len(schedule)))\n",
    "data=data.assign(time=np.arange(2,len(schedule)+2))\n",
    "data.to_excel(\"сумма 3, масло фикс 1.xlsx\",   index= False, header= False )\n",
    "\n",
    "print(zp)"
   ]
  },
  {
   "cell_type": "code",
   "execution_count": null,
   "metadata": {},
   "outputs": [],
   "source": []
  }
 ],
 "metadata": {
  "kernelspec": {
   "display_name": "Python 3",
   "language": "python",
   "name": "python3"
  },
  "language_info": {
   "codemirror_mode": {
    "name": "ipython",
    "version": 3
   },
   "file_extension": ".py",
   "mimetype": "text/x-python",
   "name": "python",
   "nbconvert_exporter": "python",
   "pygments_lexer": "ipython3",
   "version": "3.9.0"
  }
 },
 "nbformat": 4,
 "nbformat_minor": 2
}
